{
 "cells": [
  {
   "cell_type": "code",
   "execution_count": 1,
   "id": "379a709c",
   "metadata": {},
   "outputs": [
    {
     "name": "stdout",
     "output_type": "stream",
     "text": [
      "Population: 1780000\n",
      "Existing cases: 99\n",
      "5.5617977528089886e-05\n"
     ]
    }
   ],
   "source": [
    "# prevalence\n",
    "population = int(input(\"Population: \"))\n",
    "existingcases = int(input(\"Existing cases: \"))\n",
    "prevalence = existingcases / population\n",
    "print(prevalence)\n",
    "print(prevalence*100000)"
   ]
  },
  {
   "cell_type": "code",
   "execution_count": 3,
   "id": "4326a578",
   "metadata": {},
   "outputs": [
    {
     "name": "stdout",
     "output_type": "stream",
     "text": [
      "New cases: 19\n",
      "1.0674157303370787e-05\n",
      "1.0674157303370786\n"
     ]
    }
   ],
   "source": [
    "# incidence\n",
    "newcases = int(input(\"New cases: \"))\n",
    "incidence = newcases / population\n",
    "print(incidence)\n",
    "print(incidence * 100000)"
   ]
  },
  {
   "cell_type": "code",
   "execution_count": 4,
   "id": "fdd813c0",
   "metadata": {},
   "outputs": [
    {
     "name": "stdout",
     "output_type": "stream",
     "text": [
      "Number of those who died: 2\n",
      "Number of those who had the disease: 99\n",
      "0.020202020202020204\n",
      "2020.2020202020203\n"
     ]
    }
   ],
   "source": [
    "# mortality rate\n",
    "dead = int(input(\"Number of those who died: \"))\n",
    "segment = int(input(\"Number of those who had the disease: \"))\n",
    "mortalityrate = dead / segment \n",
    "print(mortalityrate)\n",
    "print(mortalityrate * 100000)"
   ]
  },
  {
   "cell_type": "code",
   "execution_count": 5,
   "id": "cdcf91e5",
   "metadata": {},
   "outputs": [
    {
     "name": "stdout",
     "output_type": "stream",
     "text": [
      "13\n",
      "3\n"
     ]
    }
   ],
   "source": [
    "# years of potential life loss\n",
    "lifeexpectancy = 77\n",
    "ages = [64, 74]\n",
    "print(lifeexpectancy - ages[0])\n",
    "print(lifeexpectancy - ages[1])"
   ]
  },
  {
   "cell_type": "code",
   "execution_count": 6,
   "id": "f7e2f7cf",
   "metadata": {},
   "outputs": [
    {
     "name": "stdout",
     "output_type": "stream",
     "text": [
      "8.0\n"
     ]
    }
   ],
   "source": [
    "lifelost = [13,3]\n",
    "yppl = sum(lifelost) / len(lifelost)\n",
    "print(yppl)"
   ]
  },
  {
   "cell_type": "code",
   "execution_count": null,
   "id": "e78d1050",
   "metadata": {},
   "outputs": [],
   "source": []
  }
 ],
 "metadata": {
  "kernelspec": {
   "display_name": "Python 3 (ipykernel)",
   "language": "python",
   "name": "python3"
  },
  "language_info": {
   "codemirror_mode": {
    "name": "ipython",
    "version": 3
   },
   "file_extension": ".py",
   "mimetype": "text/x-python",
   "name": "python",
   "nbconvert_exporter": "python",
   "pygments_lexer": "ipython3",
   "version": "3.11.4"
  }
 },
 "nbformat": 4,
 "nbformat_minor": 5
}
